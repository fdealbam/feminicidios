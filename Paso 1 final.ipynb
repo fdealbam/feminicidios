{
 "cells": [
  {
   "cell_type": "code",
   "execution_count": 1,
   "id": "51d22fac",
   "metadata": {
    "ExecuteTime": {
     "end_time": "2022-03-18T21:44:48.676986Z",
     "start_time": "2022-03-18T21:44:48.298615Z"
    }
   },
   "outputs": [],
   "source": [
    "# En este script se filtra la Dbase de Defunciones para que se tengan solo las defunciones femeninas \n",
    "\n",
    "import pandas as pd\n",
    "import os \n"
   ]
  },
  {
   "cell_type": "raw",
   "id": "26a5f8d9",
   "metadata": {
    "ExecuteTime": {
     "end_time": "2021-03-27T19:12:51.646637Z",
     "start_time": "2021-03-27T19:12:51.634669Z"
    }
   },
   "source": [
    "# Cambiar ruta local a carpeta de bases\n",
    "os.chdir(r'C:\\Users\\IVANOV\\AnacondaProjects\\0 0 Projects\\dash_fem\\bases')"
   ]
  },
  {
   "cell_type": "markdown",
   "id": "21dbdbff",
   "metadata": {
    "heading_collapsed": true
   },
   "source": [
    "### 1998"
   ]
  },
  {
   "cell_type": "code",
   "execution_count": null,
   "id": "064f5c67",
   "metadata": {
    "ExecuteTime": {
     "end_time": "2021-03-27T19:06:28.816116Z",
     "start_time": "2021-03-27T19:06:27.244975Z"
    },
    "hidden": true
   },
   "outputs": [],
   "source": [
    "base=pd.read_csv('DEFUN98.csv')\n",
    "\n",
    "#filtro en sexo: (2:Mujer)\n",
    "b1=base[base.SEXO==2]\n",
    "\n",
    "#seleccion columns\n",
    "b1[['MUN_OCURR','ENT_OCURR','LUGAR_OCUR','MES_OCURR','EDAD','EDAD_AGRU','EDO_CIVIL','ESCOLARIDA',\n",
    "    'EMBARAZO', 'REL_EMBA','PRESUNTO',]].to_csv('def98.csv')\n",
    "#guardado\n",
    "print('Guardado')"
   ]
  },
  {
   "cell_type": "markdown",
   "id": "3ca3127a",
   "metadata": {
    "heading_collapsed": true
   },
   "source": [
    "### 1999"
   ]
  },
  {
   "cell_type": "code",
   "execution_count": null,
   "id": "10690e8e",
   "metadata": {
    "ExecuteTime": {
     "end_time": "2021-03-27T19:06:30.462230Z",
     "start_time": "2021-03-27T19:06:28.834038Z"
    },
    "hidden": true
   },
   "outputs": [],
   "source": [
    "base=pd.read_csv('DEFUN99.csv')\n",
    "\n",
    "#filtro en sexo: (2:Mujer)\n",
    "b1=base[\n",
    "        base.SEXO==2]\n",
    "       #base.sexo==2     \n",
    "\n",
    "#seleccion columns\n",
    "b1[['MUN_OCURR','ENT_OCURR','LUGAR_OCUR','MES_OCURR','EDAD','EDAD_AGRU','EDO_CIVIL','ESCOLARIDA',\n",
    "    'EMBARAZO', 'REL_EMBA','PRESUNTO',]].to_csv('def99.csv')\n",
    "#guardado\n",
    "print('Guardado')\n"
   ]
  },
  {
   "cell_type": "markdown",
   "id": "9a5640aa",
   "metadata": {
    "heading_collapsed": true
   },
   "source": [
    "### 2000"
   ]
  },
  {
   "cell_type": "code",
   "execution_count": null,
   "id": "c6039a9f",
   "metadata": {
    "ExecuteTime": {
     "end_time": "2021-03-27T19:06:32.141866Z",
     "start_time": "2021-03-27T19:06:30.464226Z"
    },
    "hidden": true
   },
   "outputs": [],
   "source": [
    "base=pd.read_csv('DEFUN00.csv')\n",
    "\n",
    "#filtro en sexo: (2:Mujer)\n",
    "b1=base[\n",
    "        base.SEXO==2]\n",
    "       #base.sexo==2     \n",
    "\n",
    "#seleccion columns\n",
    "b1[['MUN_OCURR','ENT_OCURR','LUGAR_OCUR','MES_OCURR','EDAD','EDAD_AGRU','EDO_CIVIL','ESCOLARIDA',\n",
    "    'EMBARAZO', 'REL_EMBA','PRESUNTO','VIO_FAMI','ANIO_OCUR',\n",
    "   ]].to_csv('def00.csv')\n",
    "#guardado\n",
    "print('Guardado')"
   ]
  },
  {
   "cell_type": "raw",
   "id": "49031998",
   "metadata": {
    "ExecuteTime": {
     "end_time": "2021-03-24T18:31:44.474145Z",
     "start_time": "2021-03-24T18:31:43.442467Z"
    },
    "hidden": true
   },
   "source": [
    "'ENT_REGIS', 'MUN_REGIS', 'ENT_RESID', 'MUN_RESID', 'TLOC_RESID',\n",
    "       'ENT_OCURR', 'MUN_OCURR', 'CAUSA_DEF', 'LISTA_MEX', 'SEXO', 'EDAD',\n",
    "       'DIA_OCURR', 'MES_OCURR', 'ANIO_OCUR', 'MES_REGIS', 'ANIO_REGIS',\n",
    "       'DIA_NACIM', 'MES_NACIM', 'ANIO_NACIM', 'OCUPACION', 'ESCOLARIDA',\n",
    "       'EDO_CIVIL', 'PRESUNTO', 'OCURR_TRAB', 'LUGAR_OCUR', 'NECROPSIA',\n",
    "       'ASIST_MEDI', 'SITIO_OCUR', 'COND_CERT', 'CERT_NOMED', 'NACIONALID',\n",
    "       'DERECHOHAB', 'EMBARAZO', 'REL_EMBA', 'HORAS', 'MINUTOS', 'CAPITULO',\n",
    "       'GRUPO', 'LISTA1', 'GR_LISMEX', 'VIO_FAMI', 'EDAD_AGRU', 'MATERNAS',\n",
    "       'DIS_RE_OAX'"
   ]
  },
  {
   "cell_type": "markdown",
   "id": "e9abbca2",
   "metadata": {
    "heading_collapsed": true
   },
   "source": [
    "### 2001"
   ]
  },
  {
   "cell_type": "code",
   "execution_count": null,
   "id": "4442e878",
   "metadata": {
    "ExecuteTime": {
     "end_time": "2021-03-27T19:06:33.771939Z",
     "start_time": "2021-03-27T19:06:32.143861Z"
    },
    "hidden": true
   },
   "outputs": [],
   "source": [
    "base=pd.read_csv('DEFUN01.csv')\n",
    "\n",
    "#filtro en sexo: (2:Mujer)\n",
    "b1=base[\n",
    "        base.SEXO==2]\n",
    "       #base.sexo==2     \n",
    "\n",
    "#seleccion columns\n",
    "b1[['MUN_OCURR','ENT_OCURR','LUGAR_OCUR','MES_OCURR','EDAD','EDAD_AGRU','EDO_CIVIL','ESCOLARIDA',\n",
    "    'EMBARAZO', 'REL_EMBA','PRESUNTO','VIO_FAMI','ANIO_OCUR',\n",
    "   ]].to_csv('def01.csv')\n",
    "#guardado\n",
    "print('Guardado')"
   ]
  },
  {
   "cell_type": "raw",
   "id": "48dd9c25",
   "metadata": {
    "hidden": true
   },
   "source": [
    "['ENT_REGIS', 'MUN_REGIS', 'ENT_RESID', 'MUN_RESID', 'TLOC_RESID',\n",
    "       'ENT_OCURR', 'MUN_OCURR', 'CAUSA_DEF', 'LISTA_MEX', 'SEXO', 'EDAD',\n",
    "       'DIA_OCURR', 'MES_OCURR', 'ANIO_OCUR', 'MES_REGIS', 'ANIO_REGIS',\n",
    "       'DIA_NACIM', 'MES_NACIM', 'ANIO_NACIM', 'OCUPACION', 'ESCOLARIDA',\n",
    "       'EDO_CIVIL', 'PRESUNTO', 'OCURR_TRAB', 'LUGAR_OCUR', 'NECROPSIA',\n",
    "       'ASIST_MEDI', 'SITIO_OCUR', 'COND_CERT', 'CERT_NOMED', 'NACIONALID',\n",
    "       'DERECHOHAB', 'EMBARAZO', 'REL_EMBA', 'HORAS', 'MINUTOS', 'CAPITULO',\n",
    "       'GRUPO', 'LISTA1', 'GR_LISMEX', 'VIO_FAMI', 'EDAD_AGRU', 'MATERNAS',\n",
    "       'DIS_RE_OAX'],"
   ]
  },
  {
   "cell_type": "markdown",
   "id": "fe252bf3",
   "metadata": {
    "heading_collapsed": true
   },
   "source": [
    "### 2002"
   ]
  },
  {
   "cell_type": "code",
   "execution_count": null,
   "id": "9c632a4f",
   "metadata": {
    "ExecuteTime": {
     "end_time": "2021-03-27T19:06:35.574269Z",
     "start_time": "2021-03-27T19:06:33.772908Z"
    },
    "hidden": true
   },
   "outputs": [],
   "source": [
    "base=pd.read_csv('DEFUN02.csv')\n",
    "\n",
    "#filtro en sexo: (2:Mujer)\n",
    "b1=base[\n",
    "        base.SEXO==2]\n",
    "       #base.sexo==2     \n",
    "\n",
    "#seleccion columns\n",
    "b1[['MUN_OCURR','ENT_OCURR','LUGAR_OCUR','MES_OCURR','EDAD','EDAD_AGRU','EDO_CIVIL','ESCOLARIDA',\n",
    "    'EMBARAZO', 'REL_EMBA','PRESUNTO','VIO_FAMI','ANIO_OCUR',\n",
    "   ]].to_csv('def02.csv')\n",
    "#guardado\n",
    "print('Guardado')"
   ]
  },
  {
   "cell_type": "raw",
   "id": "e1f58ba9",
   "metadata": {
    "hidden": true
   },
   "source": [
    "'ENT_REGIS', 'MUN_REGIS', 'ENT_RESID', 'MUN_RESID', 'TLOC_RESID',\n",
    "       'ENT_OCURR', 'MUN_OCURR', 'TLOC_OCURR', 'CAUSA_DEF', 'LISTA_MEX',\n",
    "       'SEXO', 'EDAD', 'DIA_OCURR', 'MES_OCURR', 'ANIO_OCUR', 'DIA_REGIS',\n",
    "       'MES_REGIS', 'ANIO_REGIS', 'DIA_NACIM', 'MES_NACIM', 'ANIO_NACIM',\n",
    "       'OCUPACION', 'ESCOLARIDA', 'EDO_CIVIL', 'PRESUNTO', 'OCURR_TRAB',\n",
    "       'LUGAR_OCUR', 'NECROPSIA', 'ASIST_MEDI', 'SITIO_OCUR', 'COND_CERT',\n",
    "       'CERT_NOMED', 'NACIONALID', 'DERECHOHAB', 'EMBARAZO', 'REL_EMBA',\n",
    "       'HORAS', 'MINUTOS', 'CAPITULO', 'GRUPO', 'LISTA1', 'GR_LISMEX',\n",
    "       'VIO_FAMI', 'AREA_UR', 'EDAD_AGRU', 'MATERNAS', 'DIS_RE_OAX'"
   ]
  },
  {
   "cell_type": "markdown",
   "id": "801fc613",
   "metadata": {
    "heading_collapsed": true
   },
   "source": [
    "### 2003"
   ]
  },
  {
   "cell_type": "code",
   "execution_count": null,
   "id": "624bc2fe",
   "metadata": {
    "ExecuteTime": {
     "end_time": "2021-03-27T19:06:37.420408Z",
     "start_time": "2021-03-27T19:06:35.576260Z"
    },
    "hidden": true
   },
   "outputs": [],
   "source": [
    "base=pd.read_csv('DEFUN03.csv')\n",
    "\n",
    "#filtro en sexo: (2:Mujer)\n",
    "b1=base[\n",
    "        base.SEXO==2]\n",
    "       #base.sexo==2     \n",
    "\n",
    "#seleccion columns\n",
    "b1[['MUN_OCURR','ENT_OCURR','LUGAR_OCUR','MES_OCURR','EDAD','EDAD_AGRU','EDO_CIVIL','ESCOLARIDA',\n",
    "    'EMBARAZO', 'REL_EMBA','PRESUNTO','VIO_FAMI','ANIO_OCUR',\n",
    "   ]].to_csv('def03.csv')\n",
    "#guardado\n",
    "print('Guardado')"
   ]
  },
  {
   "cell_type": "raw",
   "id": "715d4bd3",
   "metadata": {
    "hidden": true
   },
   "source": [
    "'ENT_REGIS', 'MUN_REGIS', 'ENT_RESID', 'MUN_RESID', 'TLOC_RESID',\n",
    "       'ENT_OCURR', 'MUN_OCURR', 'TLOC_OCURR', 'CAUSA_DEF', 'LISTA_MEX',\n",
    "       'SEXO', 'EDAD', 'DIA_OCURR', 'MES_OCURR', 'ANIO_OCUR', 'DIA_REGIS',\n",
    "       'MES_REGIS', 'ANIO_REGIS', 'DIA_NACIM', 'MES_NACIM', 'ANIO_NACIM',\n",
    "       'OCUPACION', 'ESCOLARIDA', 'EDO_CIVIL', 'PRESUNTO', 'OCURR_TRAB',\n",
    "       'LUGAR_OCUR', 'NECROPSIA', 'ASIST_MEDI', 'SITIO_OCUR', 'COND_CERT',\n",
    "       'CERT_NOMED', 'NACIONALID', 'DERECHOHAB', 'EMBARAZO', 'REL_EMBA',\n",
    "       'HORAS', 'MINUTOS', 'CAPITULO', 'GRUPO', 'LISTA1', 'GR_LISMEX',\n",
    "       'VIO_FAMI', 'AREA_UR', 'EDAD_AGRU', 'MATERNAS', 'DIS_RE_OAX'"
   ]
  },
  {
   "cell_type": "code",
   "execution_count": null,
   "id": "33f661bd",
   "metadata": {
    "hidden": true
   },
   "outputs": [],
   "source": []
  },
  {
   "cell_type": "markdown",
   "id": "4082fbb9",
   "metadata": {
    "heading_collapsed": true
   },
   "source": [
    "### 2004"
   ]
  },
  {
   "cell_type": "code",
   "execution_count": null,
   "id": "61a4d9c0",
   "metadata": {
    "ExecuteTime": {
     "end_time": "2021-03-27T19:06:39.379753Z",
     "start_time": "2021-03-27T19:06:37.422375Z"
    },
    "hidden": true
   },
   "outputs": [],
   "source": [
    "base=pd.read_csv('DEFUN04.csv')\n",
    "\n",
    "#filtro en sexo: (2:Mujer)\n",
    "b1=base[base.SEXO==2]\n",
    "\n",
    "#seleccion columns\n",
    "b1[['MUN_OCURR','ENT_OCURR','LUGAR_OCUR','MES_OCURR','EDAD','EDAD_AGRU','EDO_CIVIL','ESCOLARIDA',\n",
    "    'EMBARAZO', 'REL_EMBA','PRESUNTO','VIO_FAMI','ANIO_OCUR',\n",
    "   ]].to_csv('def04.csv' )\n",
    "\n",
    "#guardado\n",
    "print('Guardado')"
   ]
  },
  {
   "cell_type": "markdown",
   "id": "f2de2428",
   "metadata": {
    "heading_collapsed": true
   },
   "source": [
    "### 2005"
   ]
  },
  {
   "cell_type": "code",
   "execution_count": null,
   "id": "bde00a58",
   "metadata": {
    "hidden": true
   },
   "outputs": [],
   "source": []
  },
  {
   "cell_type": "code",
   "execution_count": null,
   "id": "2680f2fa",
   "metadata": {
    "ExecuteTime": {
     "end_time": "2021-03-27T19:06:43.198501Z",
     "start_time": "2021-03-27T19:06:41.147813Z"
    },
    "hidden": true
   },
   "outputs": [],
   "source": [
    "base=pd.read_csv('DEFUN05.csv')\n",
    "\n",
    "#filtro en sexo: (2:Mujer)\n",
    "b1=base[base.SEXO==2]\n",
    "\n",
    "#seleccion columns\n",
    "b1[['MUN_OCURR','ENT_OCURR','LUGAR_OCUR','MES_OCURR','EDAD','EDAD_AGRU','EDO_CIVIL','ESCOLARIDA',\n",
    "    'EMBARAZO', 'REL_EMBA','PRESUNTO','VIO_FAMI','ANIO_OCUR',\n",
    "   ]].to_csv('def05.csv' )\n",
    "\n",
    "#guardado\n",
    "print('Guardado')"
   ]
  },
  {
   "cell_type": "markdown",
   "id": "e68e499c",
   "metadata": {
    "heading_collapsed": true
   },
   "source": [
    "### 2006"
   ]
  },
  {
   "cell_type": "code",
   "execution_count": null,
   "id": "8f948085",
   "metadata": {
    "ExecuteTime": {
     "end_time": "2021-03-27T19:06:46.038574Z",
     "start_time": "2021-03-27T19:06:43.955779Z"
    },
    "hidden": true
   },
   "outputs": [],
   "source": [
    "base=pd.read_csv('DEFUN06.csv')\n",
    "\n",
    "#filtro en sexo: (2:Mujer)\n",
    "b1=base[base.SEXO==2]\n",
    "\n",
    "#seleccion columns\n",
    "b1[['MUN_OCURR','ENT_OCURR','LUGAR_OCUR','MES_OCURR','EDAD','EDAD_AGRU','EDO_CIVIL','ESCOLARIDA',\n",
    "    'EMBARAZO', 'REL_EMBA','PRESUNTO','VIO_FAMI','ANIO_OCUR',\n",
    "   ]].to_csv('def06.csv')\n",
    "\n",
    "#guardado\n",
    "print('Guardado')"
   ]
  },
  {
   "cell_type": "markdown",
   "id": "5bb256e9",
   "metadata": {
    "heading_collapsed": true
   },
   "source": [
    "### 2007"
   ]
  },
  {
   "cell_type": "code",
   "execution_count": null,
   "id": "3101f7eb",
   "metadata": {
    "ExecuteTime": {
     "end_time": "2021-03-27T19:06:51.056832Z",
     "start_time": "2021-03-27T19:06:48.779376Z"
    },
    "hidden": true
   },
   "outputs": [],
   "source": [
    "base=pd.read_csv('DEFUN07.csv')\n",
    "\n",
    "#filtro en sexo: (2:Mujer)\n",
    "b1=base[base.SEXO==2]\n",
    "\n",
    "#seleccion columns\n",
    "b1[['MUN_OCURR','ENT_OCURR','LUGAR_OCUR','MES_OCURR','EDAD','EDAD_AGRU','EDO_CIVIL','ESCOLARIDA',\n",
    "    'EMBARAZO', 'REL_EMBA','PRESUNTO','VIO_FAMI','ANIO_OCUR',\n",
    "   ]].to_csv('def07.csv')\n",
    "\n",
    "#guardado\n",
    "print('Guardado')"
   ]
  },
  {
   "cell_type": "markdown",
   "id": "355c28e0",
   "metadata": {
    "heading_collapsed": true
   },
   "source": [
    "### 2008"
   ]
  },
  {
   "cell_type": "code",
   "execution_count": null,
   "id": "e8e47b23",
   "metadata": {
    "ExecuteTime": {
     "end_time": "2021-03-27T19:06:57.081319Z",
     "start_time": "2021-03-27T19:06:54.811880Z"
    },
    "hidden": true
   },
   "outputs": [],
   "source": [
    "base=pd.read_csv('DEFUN08.csv')\n",
    "\n",
    "#filtro en sexo: (2:Mujer)\n",
    "b1=base[base.SEXO==2]\n",
    "\n",
    "#seleccion columns\n",
    "b1[['MUN_OCURR','ENT_OCURR','LUGAR_OCUR','MES_OCURR','EDAD','EDAD_AGRU','EDO_CIVIL','ESCOLARIDA',\n",
    "    'EMBARAZO', 'REL_EMBA','PRESUNTO','VIO_FAMI','ANIO_OCUR',\n",
    "   ]].to_csv('def08.csv' )\n",
    "\n",
    "#guardado\n",
    "print('Guardado')"
   ]
  },
  {
   "cell_type": "markdown",
   "id": "de6f19cc",
   "metadata": {
    "heading_collapsed": true
   },
   "source": [
    "### 2009"
   ]
  },
  {
   "cell_type": "code",
   "execution_count": null,
   "id": "9b61bef2",
   "metadata": {
    "ExecuteTime": {
     "end_time": "2021-03-27T19:07:42.554912Z",
     "start_time": "2021-03-27T19:07:40.259499Z"
    },
    "hidden": true
   },
   "outputs": [],
   "source": [
    "base=pd.read_csv('DEFUN09.csv')\n",
    "\n",
    "#filtro en sexo: (2:Mujer)\n",
    "b1=base[base.SEXO==2]\n",
    "\n",
    "#seleccion columns\n",
    "b1[['MUN_OCURR','ENT_OCURR','LUGAR_OCUR','MES_OCURR','EDAD','EDAD_AGRU','EDO_CIVIL','ESCOLARIDA',\n",
    "    'EMBARAZO', 'REL_EMBA','PRESUNTO','VIO_FAMI','ANIO_OCUR',\n",
    "   ]].to_csv('def09.csv' )\n",
    "\n",
    "#guardado\n",
    "print('Guardado')"
   ]
  },
  {
   "cell_type": "markdown",
   "id": "d354219e",
   "metadata": {
    "heading_collapsed": true
   },
   "source": [
    "### 2010"
   ]
  },
  {
   "cell_type": "code",
   "execution_count": null,
   "id": "f5d3f29e",
   "metadata": {
    "ExecuteTime": {
     "end_time": "2021-03-27T19:07:46.524426Z",
     "start_time": "2021-03-27T19:07:44.068541Z"
    },
    "hidden": true
   },
   "outputs": [],
   "source": [
    "base=pd.read_csv('DEFUN10.csv')\n",
    "\n",
    "#filtro en sexo: (2:Mujer)\n",
    "b1=base[base.SEXO==2]\n",
    "\n",
    "#seleccion columns\n",
    "b1[['MUN_OCURR','ENT_OCURR','LUGAR_OCUR','MES_OCURR','EDAD','EDAD_AGRU','EDO_CIVIL','ESCOLARIDA',\n",
    "    'EMBARAZO', 'REL_EMBA','PRESUNTO','VIO_FAMI','ANIO_OCUR',\n",
    "   ]].to_csv('def10.csv' )\n",
    "\n",
    "#guardado\n",
    "print('Guardado')"
   ]
  },
  {
   "cell_type": "markdown",
   "id": "a4838393",
   "metadata": {
    "heading_collapsed": true
   },
   "source": [
    "### 2011"
   ]
  },
  {
   "cell_type": "code",
   "execution_count": null,
   "id": "08f95a20",
   "metadata": {
    "ExecuteTime": {
     "end_time": "2021-03-27T19:07:49.052247Z",
     "start_time": "2021-03-27T19:07:46.525452Z"
    },
    "hidden": true
   },
   "outputs": [],
   "source": [
    "base=pd.read_csv('DEFUN11.csv')\n",
    "\n",
    "#filtro en sexo: (2:Mujer)\n",
    "b1=base[base.SEXO==2]\n",
    "\n",
    "#seleccion columns\n",
    "b1[['MUN_OCURR','ENT_OCURR','LUGAR_OCUR','MES_OCURR','EDAD','EDAD_AGRU','EDO_CIVIL','ESCOLARIDA',\n",
    "    'EMBARAZO', 'REL_EMBA','PRESUNTO','VIO_FAMI','ANIO_OCUR',\n",
    "   ]].to_csv('def11.csv' )\n",
    "\n",
    "#guardado\n",
    "print('Guardado')"
   ]
  },
  {
   "cell_type": "code",
   "execution_count": null,
   "id": "8f3eab73",
   "metadata": {
    "hidden": true
   },
   "outputs": [],
   "source": []
  },
  {
   "cell_type": "raw",
   "id": "a4426351",
   "metadata": {
    "hidden": true
   },
   "source": [
    "'ENT_REGIS', 'MUN_REGIS', 'ENT_RESID', 'MUN_RESID', 'TLOC_RESID',\n",
    "       'ENT_OCURR', 'MUN_OCURR', 'TLOC_OCURR', 'CAUSA_DEF', 'LISTA_MEX',\n",
    "       'SEXO', 'EDAD', 'DIA_OCURR', 'MES_OCURR', 'ANIO_OCUR', 'DIA_REGIS',\n",
    "       'MES_REGIS', 'ANIO_REGIS', 'DIA_NACIM', 'MES_NACIM', 'ANIO_NACIM',\n",
    "       'OCUPACION', 'ESCOLARIDA', 'EDO_CIVIL', 'PRESUNTO', 'OCURR_TRAB',\n",
    "       'LUGAR_OCUR', 'NECROPSIA', 'ASIST_MEDI', 'SITIO_OCUR', 'COND_CERT',\n",
    "       'NACIONALID', 'DERECHOHAB', 'EMBARAZO', 'REL_EMBA', 'HORAS', 'MINUTOS',\n",
    "       'CAPITULO', 'GRUPO', 'LISTA1', 'GR_LISMEX', 'VIO_FAMI', 'AREA_UR',\n",
    "       'EDAD_AGRU', 'COMPLICARO', 'DIA_CERT', 'MES_CERT', 'ANIO_CERT', 'PESO',\n",
    "       'MATERNAS', 'DIS_RE_OAX'"
   ]
  },
  {
   "cell_type": "markdown",
   "id": "bb15d106",
   "metadata": {
    "heading_collapsed": true
   },
   "source": [
    "### 2012"
   ]
  },
  {
   "cell_type": "code",
   "execution_count": null,
   "id": "3aad615d",
   "metadata": {
    "ExecuteTime": {
     "end_time": "2021-03-27T19:07:51.788006Z",
     "start_time": "2021-03-27T19:07:49.054242Z"
    },
    "hidden": true
   },
   "outputs": [],
   "source": [
    "base=pd.read_csv('DEFUN12.csv')\n",
    "\n",
    "#filtro en sexo: (2:Mujer)\n",
    "b1=base[\n",
    "        base.SEXO==2]\n",
    "       #base.sexo==2     \n",
    "\n",
    "#seleccion columns\n",
    "b1[['MUN_OCURR','ENT_OCURR','LUGAR_OCUR','MES_OCURR','EDAD','EDAD_AGRU','EDO_CIVIL','ESCOLARIDA',\n",
    "    'EMBARAZO', 'REL_EMBA','PRESUNTO','VIO_FAMI','ANIO_OCUR','LENGUA','PAR_AGRE',\n",
    "   ]].to_csv('def12.csv')\n",
    "#guardado\n",
    "print('Guardado')"
   ]
  },
  {
   "cell_type": "raw",
   "id": "c98191a8",
   "metadata": {
    "hidden": true
   },
   "source": [
    "'ENT_REGIS', 'MUN_REGIS', 'ENT_RESID', 'MUN_RESID', 'TLOC_RESID',\n",
    "       'ENT_OCURR', 'MUN_OCURR', 'TLOC_OCURR', 'CAUSA_DEF', 'LISTA_MEX',\n",
    "       'SEXO', 'EDAD', 'DIA_OCURR', 'MES_OCURR', 'ANIO_OCUR', 'DIA_REGIS',\n",
    "       'MES_REGIS', 'ANIO_REGIS', 'DIA_NACIM', 'MES_NACIM', 'ANIO_NACIM',\n",
    "       'OCUPACION', 'ESCOLARIDA', 'EDO_CIVIL', 'PRESUNTO', 'OCURR_TRAB',\n",
    "       'LUGAR_OCUR', 'NECROPSIA', 'ASIST_MEDI', 'SITIO_OCUR', 'COND_CERT',\n",
    "       'NACIONALID', 'DERECHOHAB', 'EMBARAZO', 'REL_EMBA', 'HORAS', 'MINUTOS',\n",
    "       'CAPITULO', 'GRUPO', 'LISTA1', 'GR_LISMEX', 'VIO_FAMI', 'AREA_UR',\n",
    "       'EDAD_AGRU', 'COMPLICARO', 'DIA_CERT', 'MES_CERT', 'ANIO_CERT',\n",
    "       'MATERNAS', 'LENGUA', 'COND_ACT', 'PAR_AGRE', 'ENT_OCULES',\n",
    "       'MUN_OCULES', 'DIS_RE_OAX'"
   ]
  },
  {
   "cell_type": "markdown",
   "id": "c6ac831c",
   "metadata": {
    "heading_collapsed": true
   },
   "source": [
    "### 2013"
   ]
  },
  {
   "cell_type": "code",
   "execution_count": null,
   "id": "1c680321",
   "metadata": {
    "ExecuteTime": {
     "end_time": "2021-03-27T19:07:54.701228Z",
     "start_time": "2021-03-27T19:07:51.790001Z"
    },
    "hidden": true
   },
   "outputs": [],
   "source": [
    "base=pd.read_csv('DEFUN13.csv')\n",
    "\n",
    "#filtro en sexo: (2:Mujer)\n",
    "b1=base[base.sexo==2]\n",
    "       #base.sexo==2     \n",
    "\n",
    "#seleccion columns\n",
    "b1[['mun_ocurr','ent_ocurr','edad','mes_ocurr','anio_ocur','escolarida', \n",
    "    'edo_civil','presunto','lugar_ocur','embarazo','rel_emba','vio_fami',\n",
    "    'area_ur', 'edad_agru', 'lengua', 'cond_act','par_agre'\n",
    "   ]].to_csv('def13.csv')\n",
    "#guardado\n",
    "print('Guardado')"
   ]
  },
  {
   "cell_type": "raw",
   "id": "0d401e0f",
   "metadata": {
    "hidden": true
   },
   "source": [
    "'ent_regis', 'mun_regis', 'ent_resid', 'mun_resid', 'tloc_resid',\n",
    "       'loc_resid', 'ent_ocurr', 'mun_ocurr', 'tloc_ocurr', 'loc_ocurr',\n",
    "       'causa_def', 'lista_mex', 'sexo', 'edad', 'dia_ocurr', 'mes_ocurr',\n",
    "       'anio_ocur', 'dia_regis', 'mes_regis', 'anio_regis', 'dia_nacim',\n",
    "       'mes_nacim', 'anio_nacim', 'ocupacion', 'escolarida', 'edo_civil',\n",
    "       'presunto', 'ocurr_trab', 'lugar_ocur', 'necropsia', 'asist_medi',\n",
    "       'sitio_ocur', 'cond_cert', 'nacionalid', 'derechohab', 'embarazo',\n",
    "       'rel_emba', 'horas', 'minutos', 'capitulo', 'grupo', 'lista1',\n",
    "       'gr_lismex', 'vio_fami', 'area_ur', 'edad_agru', 'complicaro',\n",
    "       'dia_cert', 'mes_cert', 'anio_cert', 'maternas', 'lengua', 'cond_act',\n",
    "       'par_agre', 'ent_ocules', 'mun_ocules', 'loc_ocules', 'razon_m',\n",
    "       'dis_re_oax'"
   ]
  },
  {
   "cell_type": "markdown",
   "id": "da497f5d",
   "metadata": {
    "ExecuteTime": {
     "end_time": "2021-03-24T21:26:26.329103Z",
     "start_time": "2021-03-24T21:26:26.314144Z"
    },
    "heading_collapsed": true
   },
   "source": [
    "### 2014"
   ]
  },
  {
   "cell_type": "code",
   "execution_count": null,
   "id": "60469315",
   "metadata": {
    "ExecuteTime": {
     "end_time": "2021-03-27T19:07:57.786153Z",
     "start_time": "2021-03-27T19:07:54.703222Z"
    },
    "hidden": true
   },
   "outputs": [],
   "source": [
    "base=pd.read_csv('defunciones_generales_2014.csv')\n",
    "\n",
    "#filtro en sexo: (2:Mujer)\n",
    "b1=base[base.sexo==2]\n",
    "       #base.sexo==2     \n",
    "\n",
    "#seleccion columns\n",
    "b1[['mun_ocurr','ent_ocurr','edad','mes_ocurr','anio_ocur','escolarida',\n",
    "    'edo_civil','presunto','lugar_ocur','embarazo','rel_emba','vio_fami', \n",
    "    'area_ur', 'edad_agru', 'lengua', 'cond_act','par_agre'\n",
    "   ]].to_csv('def14.csv')\n",
    "#guardado\n",
    "print('Guardado')"
   ]
  },
  {
   "cell_type": "raw",
   "id": "b0bdb5b7",
   "metadata": {
    "hidden": true
   },
   "source": [
    "'ent_regis', 'mun_regis', 'ent_resid', 'mun_resid', 'tloc_resid',\n",
    "       'loc_resid', 'ent_ocurr', 'mun_ocurr', 'tloc_ocurr', 'loc_ocurr',\n",
    "       'causa_def', 'lista_mex', 'sexo', 'edad', 'dia_ocurr', 'mes_ocurr',\n",
    "       'anio_ocur', 'dia_regis', 'mes_regis', 'anio_regis', 'dia_nacim',\n",
    "       'mes_nacim', 'anio_nacim', 'ocupacion', 'escolarida', 'edo_civil',\n",
    "       'presunto', 'ocurr_trab', 'lugar_ocur', 'necropsia', 'asist_medi',\n",
    "       'sitio_ocur', 'cond_cert', 'nacionalid', 'derechohab', 'embarazo',\n",
    "       'rel_emba', 'horas', 'minutos', 'capitulo', 'grupo', 'lista1',\n",
    "       'gr_lismex', 'vio_fami', 'area_ur', 'edad_agru', 'complicaro',\n",
    "       'dia_cert', 'mes_cert', 'anio_cert', 'maternas', 'lengua', 'cond_act',\n",
    "       'par_agre', 'ent_ocules', 'mun_ocules', 'loc_ocules', 'razon_m',\n",
    "       'dis_re_oax'"
   ]
  },
  {
   "cell_type": "markdown",
   "id": "e36b2701",
   "metadata": {
    "heading_collapsed": true
   },
   "source": [
    "### 2015"
   ]
  },
  {
   "cell_type": "code",
   "execution_count": 3,
   "id": "963b32f4",
   "metadata": {
    "ExecuteTime": {
     "end_time": "2021-03-27T19:08:08.646678Z",
     "start_time": "2021-03-27T19:08:05.403890Z"
    },
    "hidden": true
   },
   "outputs": [
    {
     "name": "stdout",
     "output_type": "stream",
     "text": [
      "Guardado\n"
     ]
    }
   ],
   "source": [
    "base=pd.read_csv('defunciones_generales_2015.csv')\n",
    "\n",
    "#filtro en sexo: (2:Mujer)\n",
    "b1=base[base.sexo==2]\n",
    "\n",
    "#seleccion columns\n",
    "b1[['mun_ocurr','ent_ocurr','edad','mes_ocurr','anio_ocur','escolarida',\n",
    "'edo_civil','presunto','sitio_ocur','embarazo','rel_emba','vio_fami', \n",
    "'area_ur', 'edad_agru', 'lengua', 'ocupacion','par_agre'\n",
    "   ]].to_csv('def15.csv' )\n",
    "#guardado\n",
    "print('Guardado')"
   ]
  },
  {
   "cell_type": "raw",
   "id": "75ac799c",
   "metadata": {
    "ExecuteTime": {
     "end_time": "2021-03-24T19:02:39.056707Z",
     "start_time": "2021-03-24T19:02:36.921445Z"
    },
    "hidden": true
   },
   "source": [
    "'ent_regis', 'mun_regis', 'ent_resid', 'mun_resid', 'tloc_resid',\n",
    "       'loc_resid', 'ent_ocurr', 'mun_ocurr', 'tloc_ocurr', 'loc_ocurr',\n",
    "       'causa_def', 'lista_mex', 'sexo', 'edad', 'dia_ocurr', 'mes_ocurr',\n",
    "       'anio_ocur', 'dia_regis', 'mes_regis', 'anio_regis', 'dia_nacim',\n",
    "       'mes_nacim', 'anio_nacim', 'ocupacion', 'escolarida', 'edo_civil',\n",
    "       'presunto', 'ocurr_trab', 'lugar_ocur', 'necropsia', 'asist_medi',\n",
    "       'sitio_ocur', 'cond_cert', 'nacionalid', 'derechohab', 'embarazo',\n",
    "       'rel_emba', 'horas', 'minutos', 'capitulo', 'grupo', 'lista1',\n",
    "       'gr_lismex', 'vio_fami', 'area_ur', 'edad_agru', 'complicaro',\n",
    "       'dia_cert', 'mes_cert', 'anio_cert', 'maternas', 'lengua', 'cond_act',\n",
    "       'par_agre', 'ent_ocules', 'mun_ocules', 'loc_ocules', 'razon_m',\n",
    "       'dis_re_oax'"
   ]
  },
  {
   "cell_type": "markdown",
   "id": "8ea0a0ec",
   "metadata": {
    "heading_collapsed": true
   },
   "source": [
    "### 2016"
   ]
  },
  {
   "cell_type": "code",
   "execution_count": 4,
   "id": "d0ff1ab9",
   "metadata": {
    "ExecuteTime": {
     "end_time": "2021-03-27T19:08:12.764991Z",
     "start_time": "2021-03-27T19:08:09.499062Z"
    },
    "hidden": true
   },
   "outputs": [
    {
     "name": "stdout",
     "output_type": "stream",
     "text": [
      "Guardado\n"
     ]
    }
   ],
   "source": [
    "base=pd.read_csv('defunciones_generales_2016.csv')\n",
    "\n",
    "#filtro en sexo: (2:Mujer)\n",
    "b1=base[base.sexo==2]\n",
    "\n",
    "#seleccion columns\n",
    "b1[['mun_ocurr','ent_ocurr','edad','mes_ocurr','anio_ocur','escolarida',\n",
    "'edo_civil','presunto','sitio_ocur','embarazo','rel_emba','vio_fami', \n",
    "'area_ur', 'edad_agru', 'lengua', 'ocupacion','par_agre'\n",
    "   ]].to_csv('def16.csv' )\n",
    "#guardado\n",
    "print('Guardado')"
   ]
  },
  {
   "cell_type": "raw",
   "id": "afd63a07",
   "metadata": {
    "ExecuteTime": {
     "end_time": "2021-03-24T19:02:39.056707Z",
     "start_time": "2021-03-24T19:02:36.921445Z"
    },
    "hidden": true
   },
   "source": [
    "'ent_regis', 'mun_regis', 'ent_resid', 'mun_resid', 'tloc_resid',\n",
    "       'loc_resid', 'ent_ocurr', 'mun_ocurr', 'tloc_ocurr', 'loc_ocurr',\n",
    "       'causa_def', 'lista_mex', 'sexo', 'edad', 'dia_ocurr', 'mes_ocurr',\n",
    "       'anio_ocur', 'dia_regis', 'mes_regis', 'anio_regis', 'dia_nacim',\n",
    "       'mes_nacim', 'anio_nacim', 'ocupacion', 'escolarida', 'edo_civil',\n",
    "       'presunto', 'ocurr_trab', 'lugar_ocur', 'necropsia', 'asist_medi',\n",
    "       'sitio_ocur', 'cond_cert', 'nacionalid', 'derechohab', 'embarazo',\n",
    "       'rel_emba', 'horas', 'minutos', 'capitulo', 'grupo', 'lista1',\n",
    "       'gr_lismex', 'vio_fami', 'area_ur', 'edad_agru', 'complicaro',\n",
    "       'dia_cert', 'mes_cert', 'anio_cert', 'maternas', 'lengua', 'cond_act',\n",
    "       'par_agre', 'ent_ocules', 'mun_ocules', 'loc_ocules', 'razon_m',\n",
    "       'dis_re_oax'"
   ]
  },
  {
   "cell_type": "markdown",
   "id": "680b3b12",
   "metadata": {
    "heading_collapsed": true
   },
   "source": [
    "### 2017"
   ]
  },
  {
   "cell_type": "markdown",
   "id": "2454309b",
   "metadata": {
    "hidden": true
   },
   "source": [
    "    ATENCION: Cambiar nombre de base 2017 por otro que no sea def17.csv"
   ]
  },
  {
   "cell_type": "code",
   "execution_count": 5,
   "id": "1b524d7f",
   "metadata": {
    "ExecuteTime": {
     "end_time": "2021-03-27T19:13:06.885387Z",
     "start_time": "2021-03-27T19:13:03.451986Z"
    },
    "hidden": true
   },
   "outputs": [
    {
     "name": "stdout",
     "output_type": "stream",
     "text": [
      "Guardado\n"
     ]
    }
   ],
   "source": [
    "\n",
    "base=pd.read_csv('defunciones_generales_2017.csv')\n",
    "\n",
    "#filtro en sexo: (2:Mujer)\n",
    "b1=base[base.SEXO==2]\n",
    "\n",
    "#seleccion columns\n",
    "b1[['MUN_OCURR','ENT_OCURR','SITIO_OCUR','MES_OCURR','AREA_UR','EDAD',\n",
    "    'EDAD_AGRU','EDO_CIVIL','ESCOLARIDA','EMBARAZO', \n",
    "    'REL_EMBA','PRESUNTO','VIO_FAMI','HORAS','ANIO_OCUR','LENGUA',\n",
    "    'PAR_AGRE','OCUPACION','COND_ACT',\n",
    "   ]].to_csv('def17.csv')\n",
    "#guardado\n",
    "print('Guardado')"
   ]
  },
  {
   "cell_type": "raw",
   "id": "0a94b744",
   "metadata": {
    "ExecuteTime": {
     "end_time": "2021-03-24T21:30:59.430889Z",
     "start_time": "2021-03-24T21:30:57.137541Z"
    },
    "hidden": true
   },
   "source": [
    "'ENT_REGIS', 'MUN_REGIS', 'ENT_RESID', 'MUN_RESID', 'TLOC_RESID',\n",
    "       'LOC_RESID', 'ENT_OCURR', 'MUN_OCURR', 'TLOC_OCURR', 'LOC_OCUR',\n",
    "       'CAUSA_DEF', 'LISTA_MEX', 'SEXO', 'EDAD', 'DIA_OCURR', 'MES_OCURR',\n",
    "       'ANIO_OCUR', 'DIA_REGIS', 'MES_REGIS', 'ANIO_REGIS', 'DIA_NACIM',\n",
    "       'MES_NACIM', 'ANIO_NACIM', 'OCUPACION', 'ESCOLARIDA', 'EDO_CIVIL',\n",
    "       'PRESUNTO', 'OCURR_TRAB', 'LUGAR_OCUR', 'NECROPSIA', 'ASIST_MEDI',\n",
    "       'SITIO_OCUR', 'COND_CERT', 'NACIONALID', 'DERECHOHAB', 'EMBARAZO',\n",
    "       'REL_EMBA', 'HORAS', 'MINUTOS', 'CAPITULO', 'GRUPO', 'LISTA1',\n",
    "       'GR_LISMEX', 'VIO_FAMI', 'AREA_UR', 'EDAD_AGRU', 'COMPLICARO',\n",
    "       'DIA_CERT', 'MES_CERT', 'ANIO_CERT', 'MATERNAS', 'LENGUA', 'COND_ACT',\n",
    "       'PAR_AGRE', 'ENT_OCULES', 'MUN_OCULES', 'LOC_OCULES', 'RAZON_M',\n",
    "       'DIS_RE_OAX'"
   ]
  },
  {
   "cell_type": "code",
   "execution_count": null,
   "id": "4bb48ad3",
   "metadata": {
    "hidden": true
   },
   "outputs": [],
   "source": []
  },
  {
   "cell_type": "markdown",
   "id": "551c4216",
   "metadata": {
    "heading_collapsed": true
   },
   "source": [
    "### 2018"
   ]
  },
  {
   "cell_type": "markdown",
   "id": "1bf97096",
   "metadata": {
    "hidden": true
   },
   "source": [
    "    ATENCION: Cambiar nombre de base 2018 por otro que no sea def18.csv"
   ]
  },
  {
   "cell_type": "code",
   "execution_count": 8,
   "id": "a68939f1",
   "metadata": {
    "ExecuteTime": {
     "end_time": "2021-03-27T19:13:10.472866Z",
     "start_time": "2021-03-27T19:13:06.909325Z"
    },
    "hidden": true
   },
   "outputs": [
    {
     "name": "stdout",
     "output_type": "stream",
     "text": [
      "Guardado\n"
     ]
    }
   ],
   "source": [
    "base=pd.read_csv('defunciones_generales_2018.csv')\n",
    "\n",
    "#filtro en sexo: (2:Mujer)\n",
    "b1=base[base.SEXO==2]\n",
    "\n",
    "#seleccion columns\n",
    "b1[['MUN_OCURR','ENT_OCURR','SITIO_OCUR','MES_OCURR','AREA_UR','EDAD',\n",
    "    'EDAD_AGRU','EDO_CIVIL','ESCOLARIDA','EMBARAZO', \n",
    "    'REL_EMBA','PRESUNTO','VIO_FAMI','HORAS','ANIO_OCUR','LENGUA',\n",
    "    'PAR_AGRE','OCUPACION','COND_ACT',\n",
    "   ]].to_csv('def18.csv')\n",
    "#guardado\n",
    "print('Guardado')"
   ]
  },
  {
   "cell_type": "raw",
   "id": "605d35e8",
   "metadata": {
    "ExecuteTime": {
     "end_time": "2021-03-24T21:30:59.430889Z",
     "start_time": "2021-03-24T21:30:57.137541Z"
    },
    "hidden": true
   },
   "source": [
    "'ENT_REGIS', 'MUN_REGIS', 'ENT_RESID', 'MUN_RESID', 'TLOC_RESID',\n",
    "       'LOC_RESID', 'ENT_OCURR', 'MUN_OCURR', 'TLOC_OCURR', 'LOC_OCUR',\n",
    "       'CAUSA_DEF', 'LISTA_MEX', 'SEXO', 'EDAD', 'DIA_OCURR', 'MES_OCURR',\n",
    "       'ANIO_OCUR', 'DIA_REGIS', 'MES_REGIS', 'ANIO_REGIS', 'DIA_NACIM',\n",
    "       'MES_NACIM', 'ANIO_NACIM', 'OCUPACION', 'ESCOLARIDA', 'EDO_CIVIL',\n",
    "       'PRESUNTO', 'OCURR_TRAB', 'LUGAR_OCUR', 'NECROPSIA', 'ASIST_MEDI',\n",
    "       'SITIO_OCUR', 'COND_CERT', 'NACIONALID', 'DERECHOHAB', 'EMBARAZO',\n",
    "       'REL_EMBA', 'HORAS', 'MINUTOS', 'CAPITULO', 'GRUPO', 'LISTA1',\n",
    "       'GR_LISMEX', 'VIO_FAMI', 'AREA_UR', 'EDAD_AGRU', 'COMPLICARO',\n",
    "       'DIA_CERT', 'MES_CERT', 'ANIO_CERT', 'MATERNAS', 'LENGUA', 'COND_ACT',\n",
    "       'PAR_AGRE', 'ENT_OCULES', 'MUN_OCULES', 'LOC_OCULES', 'RAZON_M',\n",
    "       'DIS_RE_OAX'"
   ]
  },
  {
   "cell_type": "raw",
   "id": "41c72c25",
   "metadata": {
    "hidden": true
   },
   "source": [
    "base=pd.read_csv('defunciones_generales_2017.csv')\n",
    "base.LUGAR_OCUR.unique()"
   ]
  },
  {
   "cell_type": "markdown",
   "id": "9bfff126",
   "metadata": {
    "heading_collapsed": true
   },
   "source": [
    "### 2019"
   ]
  },
  {
   "cell_type": "code",
   "execution_count": 9,
   "id": "80f45bf8",
   "metadata": {
    "ExecuteTime": {
     "end_time": "2021-03-27T19:13:00.995233Z",
     "start_time": "2021-03-27T19:12:57.514881Z"
    },
    "hidden": true
   },
   "outputs": [
    {
     "name": "stdout",
     "output_type": "stream",
     "text": [
      "Guardado\n"
     ]
    }
   ],
   "source": [
    "base=pd.read_csv('Defunciones_2019.csv')\n",
    "\n",
    "#filtro en sexo: (2:Mujer)\n",
    "b1=base[base.sexo==2]\n",
    "\n",
    "#seleccion columns\n",
    "b1[['mun_ocurr','ent_ocurr','edad','mes_ocurr','anio_ocur','escolarida',\n",
    "'edo_civil','presunto','sitio_ocur','embarazo','rel_emba','vio_fami', \n",
    "'area_ur', 'edad_agru', 'lengua', 'ocupacion','par_agre'\n",
    "   ]].to_csv('def19.csv' )\n",
    "#guardado\n",
    "print('Guardado')"
   ]
  },
  {
   "cell_type": "code",
   "execution_count": null,
   "id": "b9e41fa8",
   "metadata": {
    "hidden": true
   },
   "outputs": [],
   "source": [
    "base=pd.read_csv('Defunciones_2019.csv')\n",
    "base.sitio_ocur.unique()"
   ]
  },
  {
   "cell_type": "code",
   "execution_count": null,
   "id": "6394f3fe",
   "metadata": {
    "hidden": true
   },
   "outputs": [],
   "source": []
  },
  {
   "cell_type": "markdown",
   "id": "60631170",
   "metadata": {
    "heading_collapsed": true
   },
   "source": [
    "### 2020"
   ]
  },
  {
   "cell_type": "code",
   "execution_count": 4,
   "id": "89da7a94",
   "metadata": {
    "ExecuteTime": {
     "end_time": "2022-03-18T21:48:07.659259Z",
     "start_time": "2022-03-18T21:48:02.309568Z"
    },
    "hidden": true
   },
   "outputs": [
    {
     "name": "stdout",
     "output_type": "stream",
     "text": [
      "Guardado\n"
     ]
    }
   ],
   "source": [
    "base=pd.read_csv('conjunto_de_datos_defunciones_registradas_2020.csv')\n",
    "\n",
    "#filtro en sexo: (2:Mujer)\n",
    "b1=base[base.sexo==2]\n",
    "\n",
    "#seleccion columns\n",
    "b1[['mun_ocurr','ent_ocurr','edad','mes_ocurr','anio_ocur','escolarida',\n",
    "'edo_civil','presunto','sitio_ocur','embarazo','rel_emba','vio_fami', \n",
    "'area_ur', 'edad_agru', 'lengua', 'ocupacion','par_agre'\n",
    "   ]].to_csv('def20.csv' )\n",
    "#guardado\n",
    "print('Guardado')"
   ]
  },
  {
   "cell_type": "code",
   "execution_count": null,
   "id": "5917fcc4",
   "metadata": {
    "hidden": true
   },
   "outputs": [],
   "source": [
    "base=pd.read_csv('Defunciones_2020.csv')\n",
    "base.sitio_ocur.unique()"
   ]
  },
  {
   "cell_type": "code",
   "execution_count": null,
   "id": "876ec82f",
   "metadata": {
    "hidden": true
   },
   "outputs": [],
   "source": []
  }
 ],
 "metadata": {
  "kernelspec": {
   "display_name": "Python 3 (ipykernel)",
   "language": "python",
   "name": "python3"
  },
  "language_info": {
   "codemirror_mode": {
    "name": "ipython",
    "version": 3
   },
   "file_extension": ".py",
   "mimetype": "text/x-python",
   "name": "python",
   "nbconvert_exporter": "python",
   "pygments_lexer": "ipython3",
   "version": "3.9.7"
  },
  "toc": {
   "base_numbering": 1,
   "nav_menu": {},
   "number_sections": true,
   "sideBar": true,
   "skip_h1_title": false,
   "title_cell": "Table of Contents",
   "title_sidebar": "Contents",
   "toc_cell": false,
   "toc_position": {},
   "toc_section_display": true,
   "toc_window_display": false
  }
 },
 "nbformat": 4,
 "nbformat_minor": 5
}

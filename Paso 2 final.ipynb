{
 "cells": [
  {
   "cell_type": "code",
   "execution_count": 1,
   "id": "7436a2a7",
   "metadata": {
    "ExecuteTime": {
     "end_time": "2022-03-18T21:49:44.660768Z",
     "start_time": "2022-03-18T21:49:44.276402Z"
    }
   },
   "outputs": [],
   "source": [
    "import pandas as pd\n",
    "import  os"
   ]
  },
  {
   "cell_type": "code",
   "execution_count": null,
   "id": "a00e3aa3",
   "metadata": {},
   "outputs": [],
   "source": []
  },
  {
   "cell_type": "raw",
   "id": "3191a2ea",
   "metadata": {
    "ExecuteTime": {
     "end_time": "2021-03-27T19:16:20.244194Z",
     "start_time": "2021-03-27T19:16:20.241231Z"
    }
   },
   "source": [
    "# Cambiar ruta local a carpeta de bases\n",
    "os.chdir(r'C:\\Users\\IVANOV\\AnacondaProjects\\0 0 Projects\\dash_fem\\bases')\n",
    "# y cambiar al final del loop"
   ]
  },
  {
   "cell_type": "markdown",
   "id": "78bca613",
   "metadata": {},
   "source": [
    "## Loop"
   ]
  },
  {
   "cell_type": "code",
   "execution_count": 2,
   "id": "e3315e77",
   "metadata": {
    "ExecuteTime": {
     "end_time": "2022-03-18T21:50:10.543417Z",
     "start_time": "2022-03-18T21:50:08.220604Z"
    },
    "scrolled": true
   },
   "outputs": [
    {
     "name": "stderr",
     "output_type": "stream",
     "text": [
      "C:\\Users\\PRIME\\AppData\\Local\\Temp/ipykernel_5276/205097804.py:13: FutureWarning: In a future version of pandas all arguments of DataFrame.drop except for the argument 'labels' will be keyword-only\n",
      "  base.drop('Unnamed: 0',1,inplace=True)\n"
     ]
    },
    {
     "name": "stdout",
     "output_type": "stream",
     "text": [
      "Guardado def20_r\n"
     ]
    }
   ],
   "source": [
    "\n",
    "lista_GOG=[\n",
    "    #'def98','def99','def00','def01','def02','def03','def04','def05',\n",
    "    #'def06','def07','def08','def09','def10','def11','def12','def13',\n",
    "    #'def14',\n",
    "    #'def15','def16','def17','def18','def19'\n",
    "    'def20'\n",
    "          ]\n",
    "\n",
    "for arch in lista_GOG:\n",
    "    \n",
    "    # Abre archivo\n",
    "    base=pd.read_csv('%s.csv' %(arch))\n",
    "    base.drop('Unnamed: 0',1,inplace=True)\n",
    "    # Renombre de columnas\n",
    "    base.rename(columns={\n",
    "        'MUN_OCURR': 'Municipio',\n",
    "        'ENT_OCURR': 'Entidad',\n",
    "        'LUGAR_OCUR':'Lugar',\n",
    "        'MES_OCURR': 'Mes',\n",
    "        'EDAD':      'Edad',\n",
    "        'EDAD_AGRU': 'Edad_g',\n",
    "        'EDO_CIVIL': 'Edo_civil',\n",
    "        'ESCOLARIDA':'Escolaridad',\n",
    "        'EMBARAZO':  'Embarazo',\n",
    "        'REL_EMBA':  'Rel_emb',\n",
    "        'PRESUNTO':  'Presunto',\n",
    "        'VIO_FAMI':  'Viol_fam',\n",
    "        'ANIO_OCUR': 'Año',\n",
    "        'mun_ocurr': 'Municipio',\n",
    "        'ent_ocurr': 'Entidad',\n",
    "        'edad':      'Edad',\n",
    "        'mes_ocurr': 'Mes',\n",
    "        'anio_ocur': 'Año',\n",
    "        'escolarida':'Escolaridad',\n",
    "        'edo_civil': 'Edo_civil',\n",
    "        'presunto':  'Presunto',\n",
    "        'lugar_ocur':'Lugar',\n",
    "        'embarazo':  'Embarazo',\n",
    "        'rel_emba':  'Rel_emb',\n",
    "        'vio_fami':  'Viol_fam',\n",
    "        'area_ur':   'Area_urb',\n",
    "        'edad_agru': 'Edad_g',\n",
    "        'lengua':    'Lengua',\n",
    "        #'cond_act':  'Actividad',  #no sirve\n",
    "        'par_agr':   'Par_agre',\n",
    "        'LENGUA':    'Lengua',\n",
    "        'PAR_AGRE':  'Par_agre',\n",
    "        'OCUPACION': 'Ocupacion',\n",
    "        'AREA_UR' :  'Area_urb',\n",
    "        'sitio_ocur':'Lugar',\n",
    "        'ocupacion': 'Ocupacion',\n",
    "        'par_agre': 'Par_agre',\n",
    "        #COND_ACT':  'Actividad',\n",
    "        'SITIO_OCUR': 'Lugar',\n",
    "                                 },inplace=True,\n",
    "                                   errors='ignore')\n",
    "\n",
    "    # Remplazo de Id Entidades\n",
    "    base.Entidad.replace(1, \"Aguascalientes\",inplace=True) \n",
    "    base.Entidad.replace(2, \"Baja California\",inplace=True) \n",
    "    base.Entidad.replace(3, \"Baja California Sur\",inplace=True) \n",
    "    base.Entidad.replace(4, \"Campeche\",inplace=True) \n",
    "    base.Entidad.replace(5, \"Coahuila de Zaragoza\",inplace=True) \n",
    "    base.Entidad.replace(6, \"Colima\",inplace=True) \n",
    "    base.Entidad.replace(7, \"Chiapas\",inplace=True) \n",
    "    base.Entidad.replace(8, \"Chihuahua\",inplace=True) \n",
    "    base.Entidad.replace(9, \"Ciudad de México\",inplace=True) \n",
    "    base.Entidad.replace(10, \"Durango\",inplace=True) \n",
    "    base.Entidad.replace(11, \"Guanajuato\",inplace=True) \n",
    "    base.Entidad.replace(12, \"Guerrero\",inplace=True) \n",
    "    base.Entidad.replace(13, \"Hidalgo\",inplace=True) \n",
    "    base.Entidad.replace(14, \"Jalisco\",inplace=True) \n",
    "    base.Entidad.replace(15, \"México\",inplace=True) \n",
    "    base.Entidad.replace(16, \"Michoacán de Ocampo\",inplace=True) \n",
    "    base.Entidad.replace(17, \"Morelos\",inplace=True) \n",
    "    base.Entidad.replace(18, \"Nayarit\",inplace=True) \n",
    "    base.Entidad.replace(19, \"Nuevo León\",inplace=True)\n",
    "    base.Entidad.replace(20, \"Oaxaca\",inplace=True) \n",
    "    base.Entidad.replace(21, \"Puebla\",inplace=True) \n",
    "    base.Entidad.replace(22, \"Querétaro\",inplace=True) \n",
    "    base.Entidad.replace(23, \"Quintana Roo\",inplace=True) \n",
    "    base.Entidad.replace(24, \"San Luis Potosí\",inplace=True) \n",
    "    base.Entidad.replace(25, \"Sinaloa\",inplace=True) \n",
    "    base.Entidad.replace(26, \"Sonora\",inplace=True) \n",
    "    base.Entidad.replace(27, \"Tabasco\",inplace=True)\n",
    "    base.Entidad.replace(28, \"Tamaulipas\",inplace=True) \n",
    "    base.Entidad.replace(29, \"Tlaxcala\",inplace=True) \n",
    "    base.Entidad.replace(30, \"Veracruz de Ignacio de la Llave\",inplace=True) \n",
    "    base.Entidad.replace(31, \"Yucatán\",inplace=True) \n",
    "    base.Entidad.replace(32, \"Zacatecas\",inplace=True) \n",
    "    \n",
    "    \n",
    "    # Cambiar ruta local a carpeta de bases\n",
    "    #os.chdir(r'C:\\Users\\IVANOV\\AnacondaProjects\\0 0 Projects\\Project_Dash Feminicidios\\\\')\n",
    "\n",
    "    base.to_csv('%s_r.csv' %(arch))\n",
    "    \n",
    "    print(\"Guardado %s_r\" %(arch))\n",
    "    #print()"
   ]
  },
  {
   "cell_type": "code",
   "execution_count": null,
   "id": "4afdfc21",
   "metadata": {
    "ExecuteTime": {
     "end_time": "2021-03-25T05:06:54.274878Z",
     "start_time": "2021-03-25T05:06:54.256927Z"
    }
   },
   "outputs": [],
   "source": [
    "#confifrmación:"
   ]
  },
  {
   "cell_type": "code",
   "execution_count": null,
   "id": "d4131fec",
   "metadata": {
    "ExecuteTime": {
     "end_time": "2021-03-25T05:07:45.033867Z",
     "start_time": "2021-03-25T05:07:38.976267Z"
    },
    "scrolled": true
   },
   "outputs": [],
   "source": [
    "for e in lista_GOG:\n",
    "    base=pd.read_csv('%s_r.csv' %(e))\n",
    "    base.drop('Unnamed: 0',1,inplace=True)\n",
    "    print(base.columns)\n",
    "    print()"
   ]
  },
  {
   "cell_type": "raw",
   "id": "d45805e0",
   "metadata": {},
   "source": []
  },
  {
   "cell_type": "markdown",
   "id": "870fb741",
   "metadata": {
    "heading_collapsed": true
   },
   "source": [
    "## Hoyo de Mel"
   ]
  },
  {
   "cell_type": "raw",
   "id": "b82d4a6e",
   "metadata": {
    "ExecuteTime": {
     "end_time": "2021-03-25T02:16:05.976953Z",
     "start_time": "2021-03-25T02:16:05.577803Z"
    },
    "hidden": true
   },
   "source": []
  },
  {
   "cell_type": "code",
   "execution_count": null,
   "id": "15e2cc7c",
   "metadata": {
    "hidden": true
   },
   "outputs": [],
   "source": []
  }
 ],
 "metadata": {
  "kernelspec": {
   "display_name": "Python 3 (ipykernel)",
   "language": "python",
   "name": "python3"
  },
  "language_info": {
   "codemirror_mode": {
    "name": "ipython",
    "version": 3
   },
   "file_extension": ".py",
   "mimetype": "text/x-python",
   "name": "python",
   "nbconvert_exporter": "python",
   "pygments_lexer": "ipython3",
   "version": "3.9.7"
  },
  "toc": {
   "base_numbering": 1,
   "nav_menu": {},
   "number_sections": true,
   "sideBar": true,
   "skip_h1_title": false,
   "title_cell": "Table of Contents",
   "title_sidebar": "Contents",
   "toc_cell": false,
   "toc_position": {},
   "toc_section_display": true,
   "toc_window_display": false
  }
 },
 "nbformat": 4,
 "nbformat_minor": 5
}
